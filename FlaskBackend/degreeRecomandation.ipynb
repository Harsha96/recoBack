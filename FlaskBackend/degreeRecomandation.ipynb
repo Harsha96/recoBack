{
  "cells": [
    {
      "cell_type": "code",
      "execution_count": null,
      "metadata": {},
      "outputs": [],
      "source": []
    },
    {
      "cell_type": "code",
      "execution_count": 2,
      "metadata": {
        "colab": {
          "base_uri": "https://localhost:8080/"
        },
        "id": "weB9s4XG0TcL",
        "outputId": "8c32c987-b4b7-41e5-e9ae-5d67c5f403ea"
      },
      "outputs": [
        {
          "name": "stdout",
          "output_type": "stream",
          "text": [
            "Degree\n",
            "Bachelor of Industrial Studies Honours – Textile Manufacture Specialization         1.000000\n",
            "Bachelor of Software Engineering Honours                                            1.000000\n",
            "Bachelor of Technology (BTech) Honours in Agriculture and Plantation Engineering    1.000000\n",
            "Bachelor of Technology - Computer Engineering                                       1.000000\n",
            "Bachelor of Technology - Electronic and Communication Engineering                   1.000000\n",
            "Bachelor of Technology - Mechatronics Engineering                                   1.000000\n",
            "Bachelor of Industrial Studies Honours - Agriculture                                0.966667\n",
            "Bachelor of Industrial Studies Honours – Apparel Production and Management          0.900000\n",
            "Bachelor of Industrial Studies Honours – Fashion Design and Product Development     0.800000\n",
            "Bachelor of Technology - Mechanical Engineering                                     0.771429\n",
            "Bachelor of Technology - Electrical Engineering                                     0.750000\n",
            "Bachelor of Technology - Civil Engineering                                          0.600000\n",
            "Bachelor of Technology Honours in Engineering – Textile & Clothing                  0.600000\n",
            "Name: Percentage, dtype: float64\n",
            "Accuracy: 0.875\n"
          ]
        }
      ],
      "source": [
        "import pandas as pd\n",
        "from sklearn.model_selection import train_test_split\n",
        "from sklearn.neighbors import KNeighborsClassifier\n",
        "from sklearn.metrics import accuracy_score\n",
        "\n",
        "# Load the data from a CSV file\n",
        "data = pd.read_csv(\"degree.csv\")\n",
        "\n",
        "# Split the dataset into training and testing sets\n",
        "X = data[['educational_factor', 'social_factor']]\n",
        "y = data['degree']\n",
        "X_train, X_test, y_train, y_test = train_test_split(X, y, test_size=0.2, random_state=42)\n",
        "\n",
        "# Train a k-nearest neighbors model\n",
        "model = KNeighborsClassifier()\n",
        "model.fit(X_train, y_train)\n",
        "\n",
        "# Make predictions on the test set and get the predicted probabilities\n",
        "y_pred = model.predict(X_test)\n",
        "y_pred_prob = model.predict_proba(X_test)\n",
        "\n",
        "# Combine predicted probabilities with degree labels\n",
        "predictions = pd.DataFrame({'Degree': y_pred, 'Percentage': y_pred_prob.max(axis=1)})\n",
        "\n",
        "# Print the recommendations with degrees and percentages\n",
        "recommendations = predictions.groupby('Degree')['Percentage'].mean().sort_values(ascending=False)\n",
        "print(recommendations)\n",
        "\n",
        "# Calculate the accuracy score\n",
        "accuracy = accuracy_score(y_test, y_pred)\n",
        "print(\"Accuracy:\", accuracy)"
      ]
    },
    {
      "cell_type": "code",
      "execution_count": 3,
      "metadata": {
        "id": "kckHBCeS1hGV"
      },
      "outputs": [],
      "source": [
        "# Save the trained model to a pickle file\n",
        "import pickle\n",
        "\n",
        "with open('model.pkl', 'wb') as f:\n",
        "    pickle.dump(model, f)"
      ]
    }
  ],
  "metadata": {
    "colab": {
      "provenance": []
    },
    "kernelspec": {
      "display_name": "Python 3",
      "name": "python3"
    },
    "language_info": {
      "name": "python"
    }
  },
  "nbformat": 4,
  "nbformat_minor": 0
}
