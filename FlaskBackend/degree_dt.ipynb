{
  "nbformat": 4,
  "nbformat_minor": 0,
  "metadata": {
    "colab": {
      "provenance": []
    },
    "kernelspec": {
      "name": "python3",
      "display_name": "Python 3"
    },
    "language_info": {
      "name": "python"
    }
  },
  "cells": [
    {
      "cell_type": "code",
      "source": [
        "import pandas as pd\n",
        "import numpy as np\n",
        "\n",
        "# Generate random question and degree values\n",
        "np.random.seed(42)  # Set the random seed for reproducibility\n",
        "\n",
        "question_values = np.random.randint(1, 5, size=(100, 15))\n",
        "degree_values = np.random.randint(0, 14, size=(100, 1))\n",
        "\n",
        "# Create the DataFrame\n",
        "data = pd.DataFrame(question_values, columns=[f'q{i}' for i in range(1, 16)])\n",
        "data['degree'] = degree_values\n",
        "\n",
        "# Save the data to a CSV file\n",
        "data.to_csv('questionnaire.csv', index=False)"
      ],
      "metadata": {
        "id": "QwOmbusZue5x"
      },
      "execution_count": 8,
      "outputs": []
    },
    {
      "cell_type": "code",
      "source": [],
      "metadata": {
        "id": "mfMlVc3i0D4z"
      },
      "execution_count": null,
      "outputs": []
    },
    {
      "cell_type": "code",
      "source": [
        "import pandas as pd\n",
        "from sklearn.tree import DecisionTreeClassifier\n",
        "from sklearn.preprocessing import LabelEncoder\n",
        "from sklearn.model_selection import train_test_split\n",
        "from sklearn.metrics import accuracy_score\n",
        "\n",
        "# Load the dataset from the CSV file\n",
        "df = pd.read_csv(\"questionnaire.csv\")\n",
        "\n",
        "# Split the dataset into features (X) and target variable (y)\n",
        "X = df.drop(\"degree\", axis=1)\n",
        "y = df[\"degree\"]\n",
        "\n",
        "# Convert the target variable labels to numeric values\n",
        "le = LabelEncoder()\n",
        "y = le.fit_transform(y)\n",
        "\n",
        "# Split the dataset into training and testing sets\n",
        "X_train, X_test, y_train, y_test = train_test_split(X, y, test_size=0.2, random_state=42)\n",
        "\n",
        "# Create a decision tree classifier\n",
        "clf = DecisionTreeClassifier()\n",
        "\n",
        "# Train the decision tree classifier on the training set\n",
        "clf.fit(X_train, y_train)\n",
        "\n",
        "# Make predictions on the test set\n",
        "y_pred = clf.predict(X_test)\n",
        "\n",
        "# Convert the predicted labels back to the original target variable labels\n",
        "predicted_labels = le.inverse_transform(y_pred)\n",
        "\n",
        "# Calculate and print the accuracy of the model\n",
        "accuracy = accuracy_score(le.inverse_transform(y_test), predicted_labels)\n",
        "print(\"Accuracy:\", accuracy)\n",
        "\n",
        "# # Function to test the model by taking user input\n",
        "# def test_model():\n",
        "#     print(\"Testing the model with hardcoded values:\")\n",
        "\n",
        "#     # Predefined dictionary of values\n",
        "#     user_input = {\n",
        "#         'q1': ['1'],\n",
        "#         'q2': ['2'],\n",
        "#         'q3': ['2'],\n",
        "#         'q4': ['2'],\n",
        "#         'q5': ['3'],\n",
        "#         'q6': ['2'],\n",
        "#         'q7': ['1'],\n",
        "#         'q8': ['1'],\n",
        "#         'q9': ['1'],\n",
        "#         'q10': ['1'],\n",
        "#         'q11': ['1'],\n",
        "#         'q12': ['1'],\n",
        "#         'q13': ['1'],\n",
        "#         'q14': ['1'],\n",
        "#         'q15': ['1']\n",
        "#     }\n",
        "\n",
        "\n",
        "#     # Create a dataframe from the user input\n",
        "#     input_df = pd.DataFrame(user_input)\n",
        "#     print(\"userInput\",user_input)\n",
        "#     # Make predictions on the input data using the trained model\n",
        "#     predictions = clf.predict(input_df)\n",
        "\n",
        "#     # Convert the predicted labels back to the original target variable labels\n",
        "#     predicted_labels = le.inverse_transform(predictions)\n",
        "\n",
        "#     print(\"Predicted degree:\", predicted_labels[0])\n",
        "\n",
        "# # Test the model\n",
        "# test_model()\n"
      ],
      "metadata": {
        "colab": {
          "base_uri": "https://localhost:8080/"
        },
        "id": "XNCVFWKA1BHv",
        "outputId": "e6ad81bb-9f49-4ac8-cf0a-842a510bfc76"
      },
      "execution_count": 13,
      "outputs": [
        {
          "output_type": "stream",
          "name": "stdout",
          "text": [
            "Accuracy: 0.0\n",
            "Testing the model with hardcoded values:\n",
            "userInput {'q1': ['1'], 'q2': ['2'], 'q3': ['2'], 'q4': ['2'], 'q5': ['3'], 'q6': ['2'], 'q7': ['1'], 'q8': ['1'], 'q9': ['1'], 'q10': ['1'], 'q11': ['1'], 'q12': ['1'], 'q13': ['1'], 'q14': ['1'], 'q15': ['1']}\n",
            "Predicted degree: 7\n"
          ]
        }
      ]
    },
    {
      "cell_type": "code",
      "source": [
        "# Function to test the model by taking user input\n",
        "def test_model():\n",
        "    print(\"Testing the model with hardcoded values:\")\n",
        "\n",
        "    # Predefined dictionary of values\n",
        "    user_input = {\n",
        "        'q1': ['1'],\n",
        "        'q2': ['2'],\n",
        "        'q3': ['2'],\n",
        "        'q4': ['2'],\n",
        "        'q5': ['3'],\n",
        "        'q6': ['2'],\n",
        "        'q7': ['1'],\n",
        "        'q8': ['1'],\n",
        "        'q9': ['1'],\n",
        "        'q10': ['1'],\n",
        "        'q11': ['1'],\n",
        "        'q12': ['1'],\n",
        "        'q13': ['1'],\n",
        "        'q14': ['1'],\n",
        "        'q15': ['1']\n",
        "    }\n",
        "\n",
        "    # Create a dataframe from the user input\n",
        "    input_df = pd.DataFrame(user_input)\n",
        "\n",
        "    # Make predictions on the input data using the trained model\n",
        "    predictions = clf.predict(input_df)\n",
        "    probabilities = clf.predict_proba(input_df)  # Get probabilities for each class label\n",
        "\n",
        "    # Convert the predicted labels back to the original target variable labels\n",
        "    predicted_labels = le.inverse_transform(predictions)\n",
        "\n",
        "    print(\"Predicted degree:\", predicted_labels[0])\n",
        "    print(\"Probabilities:\", probabilities[0])\n",
        "\n",
        "# Test the model\n",
        "test_model()"
      ],
      "metadata": {
        "colab": {
          "base_uri": "https://localhost:8080/"
        },
        "id": "7lWoN4CzMnUX",
        "outputId": "b68616a1-5a5e-433e-d6bc-d944ca3cf9dd"
      },
      "execution_count": 14,
      "outputs": [
        {
          "output_type": "stream",
          "name": "stdout",
          "text": [
            "Testing the model with hardcoded values:\n",
            "Predicted degree: 7\n",
            "Probabilities: [0. 0. 0. 0. 0. 0. 0. 1. 0. 0. 0. 0. 0. 0.]\n"
          ]
        }
      ]
    },
    {
      "cell_type": "code",
      "source": [
        "# Train the decision tree classifier on the training set\n",
        "clf.fit(X_train, y_train)\n",
        "from sklearn.metrics import accuracy_score\n",
        "# Make predictions on the test set\n",
        "predictions = clf.predict(X_test)\n",
        "\n",
        "# Calculate the accuracy of the model\n",
        "accuracy = accuracy_score(y_test, predictions)\n",
        "print(\"Accuracy:\", accuracy)"
      ],
      "metadata": {
        "colab": {
          "base_uri": "https://localhost:8080/"
        },
        "id": "-7a95d9Mu7hp",
        "outputId": "c511f943-a842-4b87-be5a-ece098543ba4"
      },
      "execution_count": 10,
      "outputs": [
        {
          "output_type": "stream",
          "name": "stdout",
          "text": [
            "Accuracy: 0.05\n"
          ]
        }
      ]
    },
    {
      "cell_type": "code",
      "source": [
        "import pickle\n",
        "\n",
        "# Save the trained model to a file\n",
        "with open('decision_tree_model.pkl', 'wb') as file:\n",
        "    pickle.dump(clf, file)"
      ],
      "metadata": {
        "id": "QcEBtf1kRnDv"
      },
      "execution_count": 17,
      "outputs": []
    }
  ]
}