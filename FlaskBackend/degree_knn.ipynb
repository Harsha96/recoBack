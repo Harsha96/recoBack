{
  "nbformat": 4,
  "nbformat_minor": 0,
  "metadata": {
    "colab": {
      "provenance": []
    },
    "kernelspec": {
      "name": "python3",
      "display_name": "Python 3"
    },
    "language_info": {
      "name": "python"
    }
  },
  "cells": [
    {
      "cell_type": "code",
      "source": [
        "import pandas as pd\n",
        "from sklearn.model_selection import train_test_split\n",
        "from sklearn.neighbors import KNeighborsClassifier\n",
        "from sklearn.preprocessing import MinMaxScaler, OneHotEncoder\n",
        "from sklearn.compose import ColumnTransformer\n",
        "from sklearn.metrics import accuracy_score\n",
        "\n",
        "# Load the data from a CSV file\n",
        "data = pd.read_csv(\"degree.csv\")\n",
        "\n",
        "# Split the dataset into training and testing sets\n",
        "X = data[['educational_factor', 'social_factor', 'stream']]\n",
        "y = data['degree']\n",
        "X_train, X_test, y_train, y_test = train_test_split(X, y, test_size=0.2, random_state=42)\n",
        "\n",
        "# Apply MinMax scaling to the numerical features\n",
        "numerical_features = ['educational_factor', 'social_factor']\n",
        "numerical_transformer = MinMaxScaler()\n",
        "preprocessor = ColumnTransformer(transformers=[('num', numerical_transformer, numerical_features)])\n",
        "\n",
        "# Apply one-hot encoding to the categorical feature\n",
        "categorical_features = ['stream']\n",
        "categorical_transformer = OneHotEncoder(sparse=False, handle_unknown='ignore')\n",
        "\n",
        "# Combine the numerical and categorical preprocessing steps\n",
        "preprocessor = ColumnTransformer(\n",
        "    transformers=[\n",
        "        ('num', numerical_transformer, numerical_features),\n",
        "        ('cat', categorical_transformer, categorical_features)\n",
        "    ])\n",
        "\n",
        "# Fit and transform the training data\n",
        "X_train_processed = preprocessor.fit_transform(X_train)\n",
        "X_test_processed = preprocessor.transform(X_test)\n",
        "\n",
        "# Train a k-nearest neighbors model\n",
        "model = KNeighborsClassifier()\n",
        "model.fit(X_train_processed, y_train)\n",
        "\n",
        "# Make predictions on the test set and get the predicted probabilities\n",
        "y_pred = model.predict(X_test_processed)\n",
        "y_pred_prob = model.predict_proba(X_test_processed)\n",
        "\n",
        "# Combine predicted probabilities with degree labels\n",
        "predictions = pd.DataFrame({'Degree': y_pred, 'Percentage': y_pred_prob.max(axis=1)})\n",
        "\n",
        "# Print the recommendations with degrees and percentages\n",
        "recommendations = predictions.groupby('Degree')['Percentage'].mean().sort_values(ascending=False)\n",
        "print(recommendations)\n",
        "\n",
        "# Calculate the accuracy score\n",
        "accuracy = accuracy_score(y_test, y_pred)\n",
        "print(\"Accuracy:\", accuracy)\n"
      ],
      "metadata": {
        "colab": {
          "base_uri": "https://localhost:8080/"
        },
        "id": "w95UqUew5JLJ",
        "outputId": "3fef11fe-b203-4438-dd17-1fc4adec68c0"
      },
      "execution_count": null,
      "outputs": [
        {
          "output_type": "stream",
          "name": "stdout",
          "text": [
            "Degree\n",
            "Bachelor of Software Engineering Honours                                           1.0000000000\n",
            "Bachelor of Technology (BTech) Honours in Agriculture and Plantation Engineering   1.0000000000\n",
            "Bachelor of Technology - Computer Engineering                                      1.0000000000\n",
            "Bachelor of Technology - Mechanical Engineering                                    1.0000000000\n",
            "Bachelor of Technology - Mechatronics Engineering                                  1.0000000000\n",
            "Bachelor of Technology - Electrical Engineering                                    0.9333333333\n",
            "Bachelor of Industrial Studies Honours – Textile Manufacture Specialization        0.9142857143\n",
            "Bachelor of Industrial Studies Honours - Agriculture                               0.9000000000\n",
            "Bachelor of Industrial Studies Honours – Fashion Design and Product Development    0.8857142857\n",
            "Bachelor of Technology - Electronic and Communication Engineering                  0.8800000000\n",
            "Bachelor of Technology - Civil Engineering                                         0.8000000000\n",
            "Bachelor of Industrial Studies Honours – Apparel Production and Management         0.7714285714\n",
            "Bachelor of Technology Honours in Engineering – Textile & Clothing                 0.6400000000\n",
            "Name: Percentage, dtype: float64\n",
            "Accuracy: 0.81\n"
          ]
        },
        {
          "output_type": "stream",
          "name": "stderr",
          "text": [
            "/usr/local/lib/python3.10/dist-packages/sklearn/preprocessing/_encoders.py:868: FutureWarning: `sparse` was renamed to `sparse_output` in version 1.2 and will be removed in 1.4. `sparse_output` is ignored unless you leave `sparse` to its default value.\n",
            "  warnings.warn(\n"
          ]
        }
      ]
    },
    {
      "cell_type": "code",
      "source": [
        "# Input data for prediction\n",
        "input_data = pd.DataFrame({\n",
        "    'educational_factor': [2],\n",
        "    'social_factor': [3],\n",
        "    'stream': ['MathematicsD with IT']\n",
        "})\n",
        "\n",
        "# Apply preprocessing to the input data\n",
        "input_processed = preprocessor.transform(input_data)\n",
        "\n",
        "# Make predictions on the input data\n",
        "predictions = model.predict_proba(input_processed)\n",
        "\n",
        "# Get the probability for each degree\n",
        "degrees = model.classes_\n",
        "degree_probs = zip(degrees, predictions[0])\n",
        "\n",
        "# Print the predicted probabilities for each degree\n",
        "print(\"Predicted Probabilities:\")\n",
        "for degree, prob in degree_probs:\n",
        "    print(f\"Degree: {degree}, Probability: {prob:.4f}\")"
      ],
      "metadata": {
        "colab": {
          "base_uri": "https://localhost:8080/"
        },
        "id": "wVOuYOXa8mv7",
        "outputId": "9db776c3-6d73-4158-ab4e-3bc87135fd94"
      },
      "execution_count": null,
      "outputs": [
        {
          "output_type": "stream",
          "name": "stdout",
          "text": [
            "Predicted Probabilities:\n",
            "Degree: Bachelor of Industrial Studies Honours - Agriculture, Probability: 0.0000\n",
            "Degree: Bachelor of Industrial Studies Honours – Apparel Production and Management, Probability: 0.2000\n",
            "Degree: Bachelor of Industrial Studies Honours – Fashion Design and Product Development, Probability: 0.0000\n",
            "Degree: Bachelor of Industrial Studies Honours – Textile Manufacture Specialization, Probability: 0.0000\n",
            "Degree: Bachelor of Software Engineering Honours, Probability: 0.0000\n",
            "Degree: Bachelor of Technology (BTech) Honours in Agriculture and Plantation Engineering, Probability: 0.2000\n",
            "Degree: Bachelor of Technology - Civil Engineering, Probability: 0.0000\n",
            "Degree: Bachelor of Technology - Computer Engineering, Probability: 0.0000\n",
            "Degree: Bachelor of Technology - Electrical Engineering, Probability: 0.0000\n",
            "Degree: Bachelor of Technology - Electronic and Communication Engineering, Probability: 0.2000\n",
            "Degree: Bachelor of Technology - Mechanical Engineering, Probability: 0.2000\n",
            "Degree: Bachelor of Technology - Mechatronics Engineering, Probability: 0.0000\n",
            "Degree: Bachelor of Technology Honours in Engineering – Textile & Clothing, Probability: 0.2000\n"
          ]
        }
      ]
    },
    {
      "cell_type": "code",
      "source": [
        "import pickle\n",
        "\n",
        "# Save the trained model as a pickle file\n",
        "with open('model.pkl', 'wb') as file:\n",
        "    pickle.dump(model, file)"
      ],
      "metadata": {
        "id": "G0ukQ59BEkDv"
      },
      "execution_count": null,
      "outputs": []
    }
  ]
}